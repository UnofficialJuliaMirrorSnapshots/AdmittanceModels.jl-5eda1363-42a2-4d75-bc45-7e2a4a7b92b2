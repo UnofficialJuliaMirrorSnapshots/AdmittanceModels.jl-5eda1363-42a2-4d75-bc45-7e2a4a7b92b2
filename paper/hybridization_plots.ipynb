{
 "cells": [
  {
   "cell_type": "code",
   "execution_count": null,
   "metadata": {},
   "outputs": [],
   "source": [
    "import numpy as np\n",
    "import matplotlib\n",
    "import matplotlib.pyplot as plt\n",
    "import seaborn as sns\n",
    "import pandas\n",
    "import scipy.signal as signal\n",
    "import os\n",
    "%matplotlib inline"
   ]
  },
  {
   "cell_type": "code",
   "execution_count": null,
   "metadata": {},
   "outputs": [],
   "source": [
    "input_folder = \"./hybridization_results/\"\n",
    "output_folder = \"./hybridization_figures/\"\n",
    "try:\n",
    "    os.mkdir(output_folder)\n",
    "except FileExistsError:\n",
    "    pass\n",
    "\n",
    "font_scale = 1.75\n",
    "figsize = (8, 6)\n",
    "double_figsize = (8, 10)\n",
    "dpi = 300\n",
    "handlelength = .8\n",
    "markersize=7.5\n",
    "def plot_style():\n",
    "    sns.set(style='ticks', font_scale=font_scale)\n",
    "    matplotlib.rcParams['mathtext.fontset'] = 'stix'\n",
    "    matplotlib.rcParams['font.family'] = 'STIXGeneral'\n",
    "    matplotlib.rcParams['legend.fontsize'] = 17.5\n",
    "    matplotlib.rcParams[\"legend.frameon\"] = False\n",
    "    \n",
    "colors_2 = ['red', 'blue']\n",
    "colors_3 = ['indigo', 'darkcyan', 'coral']\n",
    "\n",
    "def parse_complex(s):\n",
    "    if \" + \" in s:\n",
    "        r, i = s.split(\" + \")\n",
    "        return float(r) + 1j * float(i.split(\"im\")[0])\n",
    "    elif \" - \" in s:\n",
    "        r, i = s.split(\" - \")\n",
    "        return float(r) - 1j * float(i.split(\"im\")[0])"
   ]
  },
  {
   "cell_type": "markdown",
   "metadata": {},
   "source": [
    "# Scattering"
   ]
  },
  {
   "cell_type": "code",
   "execution_count": null,
   "metadata": {},
   "outputs": [],
   "source": [
    "df = pandas.read_csv(input_folder + \"S12.csv\")\n",
    "freqs = np.array(df['freqs'])\n",
    "circ_S_p5 = np.array([parse_complex(s) for s in df['circ_S_p5']])\n",
    "circ_S_1p5 = np.array([parse_complex(s) for s in df['circ_S_1p5']])"
   ]
  },
  {
   "cell_type": "code",
   "execution_count": null,
   "metadata": {},
   "outputs": [],
   "source": [
    "plot_style()\n",
    "fig, ax = plt.subplots(1,1,figsize=figsize)\n",
    "cp_name = 'x_t'\n",
    "ax.plot(freqs/1e9, np.abs(circ_S_p5), label=f'${cp_name}$ = 0.5 mm', color=colors_2[0])\n",
    "ax.plot(freqs/1e9, np.abs(circ_S_1p5), label=f'${cp_name}$ = 1.5 mm', color=colors_2[1])\n",
    "ax.legend(loc=4, handlelength=handlelength)\n",
    "ax.set_xlabel('Frequency [GHz]')\n",
    "ax.set_ylabel(u'$|S_{21}|$')\n",
    "plt.savefig(output_folder + 'pfilters_s12.png', dpi=dpi)"
   ]
  },
  {
   "cell_type": "markdown",
   "metadata": {},
   "source": [
    "# Eigenmodes"
   ]
  },
  {
   "cell_type": "code",
   "execution_count": null,
   "metadata": {},
   "outputs": [],
   "source": [
    "df = pandas.read_csv(input_folder + \"complex_frequencies.csv\")\n",
    "names = df.columns[0:3]\n",
    "purcell_filter, resonator_0, resonator_1 = names\n",
    "names = [resonator_0, resonator_1, purcell_filter] # reorder so purcell filter plots are on top\n",
    "name_to_color = {purcell_filter: colors_3[0],\n",
    "                 resonator_0: colors_3[1],\n",
    "                 resonator_1: colors_3[2]}\n",
    "name_to_label = {purcell_filter: 'Purcell filter',\n",
    "                 resonator_0: 'Resonator 0',\n",
    "                 resonator_1: 'Resonator 1'}\n",
    "stub_lens = np.array(df['stub_len'])"
   ]
  },
  {
   "cell_type": "code",
   "execution_count": null,
   "metadata": {},
   "outputs": [],
   "source": [
    "plot_style()\n",
    "fig, ax = plt.subplots(1,1,figsize=figsize)\n",
    "\n",
    "for name in names:\n",
    "    ax.semilogy(stub_lens * 1e3, [-2 * parse_complex(s).real/(2*np.pi) for s in df[name]], '.-', markersize=markersize,\n",
    "         label=name_to_label[name], color=name_to_color[name])\n",
    "\n",
    "label = ax.xaxis.get_ticklabels()[2]\n",
    "label.set_bbox(dict(facecolor='none', edgecolor='red', mutation_aspect=.5))\n",
    "label = ax.xaxis.get_ticklabels()[4]\n",
    "label.set_bbox(dict(facecolor='none', edgecolor='red', mutation_aspect=.5))\n",
    "\n",
    "ax.set_ylim([None, 10**(10.5)])\n",
    "ax.set_xlabel(f'${cp_name}$ [mm]')\n",
    "ax.set_ylabel('Decay rate [Hz]')\n",
    "ax.legend(loc=2, handlelength=handlelength)\n",
    "\n",
    "# INSET\n",
    "left, bottom, width, height = [0.6, 0.43, 0.27, 0.24]\n",
    "ax1 = fig.add_axes([left, bottom, width, height])\n",
    "for name in names:\n",
    "    ax1.plot(stub_lens * 1e3, [-2 * parse_complex(s).real/(2*np.pi) for s in df[name]], '.-', markersize=markersize,\n",
    "         label=name_to_label[name], color=name_to_color[name])\n",
    "ax1.set_xlim([0, 2])\n",
    "ax1.set_ylim([0, 7e7])\n",
    "plt.savefig(output_folder + 'loss_rates_vs_stubs.png', dpi=dpi)"
   ]
  },
  {
   "cell_type": "code",
   "execution_count": null,
   "metadata": {},
   "outputs": [],
   "source": [
    "plot_style()\n",
    "fig, ax = plt.subplots(1,1,figsize=figsize)\n",
    "\n",
    "for name in names:\n",
    "    ax.plot(stub_lens * 1e3, [parse_complex(s).imag/(2*np.pi*1e9) for s in df[name]], '.-', markersize=markersize,\n",
    "         label=name_to_label[name], color=name_to_color[name])\n",
    "\n",
    "label = ax.xaxis.get_ticklabels()[2]\n",
    "label.set_bbox(dict(facecolor='none', edgecolor='red', mutation_aspect=.5))\n",
    "label = ax.xaxis.get_ticklabels()[4]\n",
    "label.set_bbox(dict(facecolor='none', edgecolor='red', mutation_aspect=.5))\n",
    "\n",
    "ax.set_ylim([None, 6.07])\n",
    "ax.set_xlabel(f'${cp_name}$ [mm]')\n",
    "ax.set_ylabel('Frequency [GHz]')\n",
    "ax.legend(loc=2, handlelength=handlelength)\n",
    "plt.savefig(output_folder + 'frequencies_v_stubs.png', dpi=dpi)"
   ]
  },
  {
   "cell_type": "markdown",
   "metadata": {},
   "source": [
    "# Eigenvectors"
   ]
  },
  {
   "cell_type": "code",
   "execution_count": null,
   "metadata": {},
   "outputs": [],
   "source": [
    "df_p5 = pandas.read_csv(input_folder + \"mode_profile_p5.csv\")\n",
    "df_1p5 = pandas.read_csv(input_folder + \"mode_profile_1p5.csv\")\n",
    "region_sums = np.cumsum([201+1, 102+1, 101+2]) # see Hybridization.jl\n",
    "fill_inds = [range(0, region_sums[0]),\n",
    "             range(region_sums[0]-1, region_sums[1]),\n",
    "             range(region_sums[1]-1, region_sums[2])]"
   ]
  },
  {
   "cell_type": "code",
   "execution_count": null,
   "metadata": {},
   "outputs": [],
   "source": [
    "plot_style()\n",
    "transparency = 0.1\n",
    "fig, axes = plt.subplots(3,1,sharex=True, figsize=double_figsize)\n",
    "for ax, mode in zip(axes, names):\n",
    "    ymax = 0.15\n",
    "    ax.set_ylim([None, ymax])\n",
    "    colors = ['darkblue', 'darkred']\n",
    "    for df, c in zip([df_p5, df_1p5], colors):\n",
    "        y = df[mode]\n",
    "        x = range(len(y))\n",
    "        ax.plot(x, y, color=c)\n",
    "        ax.set_xlim([x[0], x[-1]])\n",
    "        for i in range(len(names)):\n",
    "            ax.fill_between(fill_inds[i], ymax, color=name_to_color[names[i]], alpha=transparency)\n",
    "    ax.set_xticks([])\n",
    "    ax.set_ylabel(name_to_label[mode])\n",
    "axes[-1].text(95,-.015, u\"$f$\")\n",
    "axes[-1].text(247,-.015, u\"$r_0$\")\n",
    "axes[-1].text(352,-.015, u\"$r_1$\")\n",
    "axes[-1].legend(ncol=2, bbox_to_anchor=(.62, -0.1), handlelength=handlelength)\n",
    "plt.tight_layout()\n",
    "plt.savefig(output_folder + 'hybridization.png', dpi=dpi)"
   ]
  },
  {
   "cell_type": "markdown",
   "metadata": {},
   "source": [
    "# Hybridization"
   ]
  },
  {
   "cell_type": "code",
   "execution_count": null,
   "metadata": {},
   "outputs": [],
   "source": [
    "df_curves = pandas.read_csv(input_folder + \"hybridization_curves.csv\")\n",
    "stub_lens = np.array(df_curves['stub_len'])\n",
    "df_xs = pandas.read_csv(input_folder + \"hybridization_scatter_x.csv\")\n",
    "df_ys = pandas.read_csv(input_folder + \"hybridization_scatter_y.csv\")"
   ]
  },
  {
   "cell_type": "code",
   "execution_count": null,
   "metadata": {},
   "outputs": [],
   "source": [
    "plot_style()\n",
    "fig, ax = plt.subplots(1,1,figsize=figsize)\n",
    "\n",
    "for name in names:\n",
    "    ax.plot(stub_lens * 1e3, df_curves[name], '.-', markersize=markersize,\n",
    "         label=name_to_label[name], color=name_to_color[name])\n",
    "\n",
    "label = ax.xaxis.get_ticklabels()[2]\n",
    "label.set_bbox(dict(facecolor='none', edgecolor='red', mutation_aspect=.5))\n",
    "label = ax.xaxis.get_ticklabels()[4]\n",
    "label.set_bbox(dict(facecolor='none', edgecolor='red', mutation_aspect=.5))\n",
    "\n",
    "ax.set_xlabel(f'${cp_name}$ [mm]')\n",
    "ax.set_ylabel('Distance')\n",
    "ax.legend(loc='best', handlelength=handlelength)\n",
    "\n",
    "# INSET\n",
    "left, bottom, width, height = [0.5, 0.25, .4, .4]\n",
    "ax1 = fig.add_axes([left, bottom, width, height])\n",
    "sns.despine(ax=ax1, top=True, right=True, left=True, bottom=True)\n",
    "basis_points = [np.array([0,0]), np.array([1,0]), np.array([1/2, np.sqrt(3)/2])]\n",
    "xs, ys = zip(*(basis_points + basis_points[:1]))\n",
    "ax1.plot(xs, ys, c='black')\n",
    "ax1.set_xticks([])\n",
    "ax1.set_yticks([])\n",
    "ax1.set_aspect('equal')\n",
    "for name in names:\n",
    "    ax1.plot(df_xs[name], df_ys[name], '.-',label=name_to_label[name], color=name_to_color[name])\n",
    "\n",
    "plt.savefig(output_folder + 'barycentric_overlaps.png', dpi=dpi)"
   ]
  },
  {
   "cell_type": "markdown",
   "metadata": {},
   "source": [
    "# Convergence"
   ]
  },
  {
   "cell_type": "code",
   "execution_count": null,
   "metadata": {},
   "outputs": [],
   "source": [
    "eigenvalues = np.load(input_folder + \"convergence_eigenvalues.npy\")\n",
    "mode_names = [\"Purcell filter\", \"Resonator 0\", \"Resonator 1\"]\n",
    "def diag_T1(data):\n",
    "    ans = 1/(-2 * 2 * np.pi * np.array(data).real)\n",
    "    return ans\n",
    "def diag_freq(data):\n",
    "    return np.array(data).imag"
   ]
  },
  {
   "cell_type": "code",
   "execution_count": null,
   "metadata": {},
   "outputs": [],
   "source": [
    "plot_style()\n",
    "fig, axs = plt.subplots(2, 1, figsize=figsize)\n",
    "\n",
    "def make_plot(ax, f, results_object, y_min, y_max):\n",
    "    for i, mode_name in enumerate(mode_names):\n",
    "        a=f(results_object[i, :, -3])\n",
    "        b=f(results_object[i, :, -2])\n",
    "        c=f(results_object[i, :, -1])\n",
    "        y1 = np.abs((a-c)/c)\n",
    "        y2 = np.abs((b-c)/c)\n",
    "        y1_label = mode_name + u' $\\delta_2$'\n",
    "        y2_label = mode_name + \" $\\delta_1$\"\n",
    "        ax.semilogy(stub_lens * 1e3, y2, markersize=3,\n",
    "                    label=y2_label, color=colors_3[i])\n",
    "        ax.semilogy(stub_lens * 1e3, y1, \"--\", markersize=3,\n",
    "                    label=y1_label, color=colors_3[i])\n",
    "        ax.set_ylim([y_min, y_max])\n",
    "        ax.minorticks_off()\n",
    "\n",
    "make_plot(axs[0], diag_freq, eigenvalues, .5e-6, 3e-5)\n",
    "make_plot(axs[1], diag_T1, eigenvalues, .5e-7, 2e-4)\n",
    "\n",
    "axs[0].set_xticks([])\n",
    "label = axs[1].xaxis.get_ticklabels()[2]\n",
    "label.set_bbox(dict(facecolor='none', edgecolor='red', mutation_aspect=.5))\n",
    "label = axs[1].xaxis.get_ticklabels()[4]\n",
    "label.set_bbox(dict(facecolor='none', edgecolor='red', mutation_aspect=.5))\n",
    "\n",
    "\n",
    "axs[0].legend(loc=4, ncol=3, handlelength=handlelength)\n",
    "\n",
    "axs[0].set_ylabel('Frequency rel. diff.')\n",
    "axs[1].set_ylabel(u'$T_1$ rel. diff.')\n",
    "axs[1].set_xlabel(f'${cp_name}$ [mm]')\n",
    "plt.tight_layout(pad=0.0)\n",
    "plt.savefig(output_folder + 'hybridization_convergence.png', dpi=dpi)"
   ]
  }
 ],
 "metadata": {
  "@webio": {
   "lastCommId": null,
   "lastKernelId": null
  },
  "kernelspec": {
   "display_name": "Python 3",
   "language": "python",
   "name": "python3"
  },
  "language_info": {
   "codemirror_mode": {
    "name": "ipython",
    "version": 3
   },
   "file_extension": ".py",
   "mimetype": "text/x-python",
   "name": "python",
   "nbconvert_exporter": "python",
   "pygments_lexer": "ipython3",
   "version": "3.7.1"
  }
 },
 "nbformat": 4,
 "nbformat_minor": 2
}
